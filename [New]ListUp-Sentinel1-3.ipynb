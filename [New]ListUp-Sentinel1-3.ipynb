{
 "cells": [
  {
   "cell_type": "markdown",
   "id": "77dca4e6-19f7-47b1-93f8-e1549cd3a298",
   "metadata": {},
   "source": [
    "# **日本国内におけるSentinel-1のアーカイブデータと、近傍の気象台・測候所における撮像日の気象データをリスト化します**"
   ]
  },
  {
   "cell_type": "markdown",
   "id": "28e86d98-0ed1-43ff-9ca9-9536aa31b9f4",
   "metadata": {
    "tags": []
   },
   "source": [
    "# 1.使用ライブラリの読み込み"
   ]
  },
  {
   "cell_type": "code",
   "execution_count": 14,
   "id": "d8a472de",
   "metadata": {
    "tags": []
   },
   "outputs": [],
   "source": [
    "import os\n",
    "import requests\n",
    "import json\n",
    "import pprint\n",
    "import pandas as pd\n",
    "import folium \n",
    "import geopandas as gpd\n",
    "import sys\n",
    "import datetime\n",
    "import csv\n",
    "from tkinter import filedialog\n",
    "import numpy as np\n",
    "import urllib3\n",
    "from urllib3.exceptions import InsecureRequestWarning\n",
    "from collections import OrderedDict\n",
    "import geojson\n",
    "from shapely.geometry import shape\n",
    "import time\n",
    "from shapely.wkt import loads\n",
    "from shapely.geometry import shape\n",
    "import geopandas as gpd\n",
    "\n",
    "import matplotlib.pyplot as plt\n",
    "from functools import partial\n",
    "import pyproj\n",
    "from shapely.ops import transform\n",
    "import ipywidgets as widgets\n",
    "\n",
    "import asf_search as asf\n",
    "\n",
    "urllib3.disable_warnings(InsecureRequestWarning) #API参照時に出てくるWarningを非表示にする一文"
   ]
  },
  {
   "cell_type": "markdown",
   "id": "1f8234f5-e458-4342-9378-f29805a1158c",
   "metadata": {},
   "source": [
    "使用する関数の読み込み"
   ]
  },
  {
   "cell_type": "code",
   "execution_count": 15,
   "id": "415aad67-7d1d-43e0-a330-03e5c53b9814",
   "metadata": {
    "tags": []
   },
   "outputs": [],
   "source": [
    "def get_any_geojson_file(foldr_path):\n",
    "    for file in os.listdir(folder_path):\n",
    "        if file.endswith('.geojson'):\n",
    "            return os.path.join(folder_path, file)\n",
    "        return None    "
   ]
  },
  {
   "cell_type": "markdown",
   "id": "6c39eae0-51f8-4a9c-8f22-c579c0e68c0f",
   "metadata": {},
   "source": [
    "# 2.geojsonの読み込み\n",
    "*AOIフォルダにGeojsonを置いた上で実行してください。"
   ]
  },
  {
   "cell_type": "markdown",
   "id": "e76cfd2d-5302-4eaf-ad51-beb4c37653be",
   "metadata": {
    "tags": []
   },
   "source": [
    "使用している気象庁の過去データを引っ張ってくるAPIは「気象台・測候所等」の地点のみしか対応していない点に留意\n",
    "\n",
    "地点名 地点番号\n",
    "\n",
    "- 北海道\n",
    "    - 稚内 47401, 北見枝幸 47402, 羽幌 47404, 雄武\t47405, 留萌 47406, 旭川\t47407, 網走 47409, 小樽\t47411, 札幌 47412, 岩見沢 47413, 帯広 47417, 釧路 47418, 根室 47420, 寿都 47421, 室蘭 47423, 苫小牧 47424, 浦河 47426, 江差 47428, 函館 47430, 倶知安 47433, 紋別 47435, 広尾 47440\n",
    "- 青森\n",
    "    - 深浦 47574, 青森 47575, むつ 47576,\t八戸 47581\n",
    "- 岩手\n",
    "    - 大船渡 47512, 盛岡\t47584, 宮古 47585\n",
    "- 秋田\n",
    "    - 秋田 47582\n",
    "- 宮城\n",
    "    - 石巻 47592, 仙台 47590\n",
    "- 山形\n",
    "    - 山形 47588, 新庄 47520, 酒田 47587\n",
    "- 福島\n",
    "    - 福島 47595, 白河 47597, 若松 47570, 小名浜\t47598\n",
    "<br><br>\n",
    "- 茨木\n",
    "    - 水戸 47629, つくば（館野）47646\n",
    "- 栃木\n",
    "    - 奥日光 47690, 宇都宮 47615\n",
    "- 埼玉\n",
    "    - 熊谷 47626, 秩父 47641\n",
    "- 群馬\n",
    "    - 前橋 47624\n",
    "- 東京\n",
    "    - 東京 47662, 大島 47675, 八丈島 47678, 三宅島 47677, 父島 47971, 南鳥島 47991 \n",
    "- 千葉\n",
    "    - 館山 47672, 千葉 47682, 銚子 47648, 勝浦 47674\n",
    "- 神奈川\n",
    "    - 横浜 47670\n",
    "<br><br>\n",
    "- 新潟\n",
    "    - 相川 47602, 新潟 47604, 高田 47612, \n",
    "- 富山\n",
    "    - 伏木 47606, 富山 47607\n",
    "- 石川\n",
    "    - 輪島 47600, 金沢 47605\n",
    "- 福井\n",
    "    - 福井 47616, 敦賀 47631\n",
    "- 山梨\n",
    "    - 甲府 47638, 河口湖\t47640\n",
    "- 長野\n",
    "    - 長野 47610, 軽井沢\t47622, 松本 47618, 飯田\t47637, 諏訪 47620\n",
    "- 岐阜\n",
    "    - 高山 47617, 岐阜 47632\n",
    "- 静岡\n",
    "    - 富士山 47639, 三島\t47657, 網代 47668, 石廊崎 47666, 静岡 47656, 御前崎 47655, 浜松\t47654\n",
    "- 愛知\n",
    "    - 名古屋 47636, 伊良湖 47653\n",
    "<br><br>\n",
    "- 三重\n",
    "    - 上野 47649, 津 47651, 尾鷲 47663, 四日市 47684\n",
    "- 滋賀\n",
    "    - 伊吹山 47751, 彦根\t47761\n",
    "- 京都\n",
    "    - 舞鶴 47750, 京都 47759\n",
    "- 大阪\n",
    "    - 大阪 47772\n",
    "- 兵庫\n",
    "    - 豊岡 47747, 姫路 47769, 神戸 47770, 洲本 47776\n",
    "- 奈良\n",
    "    - 奈良 47780\n",
    "- 和歌山\n",
    "    - 和歌山 47777, 潮岬\t47778\n",
    "<br><br>\n",
    "- 鳥取\n",
    "    - 鳥取 47746, 米子 47744, 境\t47742\n",
    "- 島根\n",
    "    - 松江 47741, 浜田 47755, 西郷 47740\n",
    "- 岡山\n",
    "    - 津山 47756, 岡山 47768\n",
    "- 広島\n",
    "    - 福山 47767, 広島 47765, 呉\t47766\n",
    "- 山口\n",
    "    - 下関 47762, 萩 47754, 山口\t47784\n",
    "- 徳島\n",
    "    - 徳島 47895, 剣山 47894\n",
    "- 香川\n",
    "    - 高松 47891, 多度津\t47890\n",
    "- 愛媛\n",
    "    - 松山 47887, 宇和島\t47892\n",
    "- 高知\n",
    "    - 室戸岬 47899, 清水\t47898, 宿毛 47897, 高知 47893\n",
    "<br><br>\n",
    "- 福岡\n",
    "    - 飯塚 47809, 福岡\t47807\n",
    "- 佐賀\n",
    "    - 佐賀 47813\n",
    "- 長崎\n",
    "    - 平戸 47805, 厳原 47800, 長崎 47817, 福江 47843, 佐世保 47812, 雲仙岳 47818\n",
    "- 熊本\n",
    "    - 阿蘇山 47821, 熊本\t47819, 牛深 47838, 人吉\t47824\n",
    "- 大分\n",
    "    - 日田 47814, 大分 47815\n",
    "- 宮崎\n",
    "    - 延岡 47822, 都城 47829, 宮崎 47830, 油津 47835\n",
    "- 鹿児島\n",
    "    - 阿久根 47823, 鹿児島 47827, 枕崎 47831, 種子島 47837, 屋久島 47836, 名瀬 47909, 沖永良部 47942\n",
    "- 沖縄\n",
    "    - 久米島 47929, 名護\t47940, 那覇 47936, 南大東（南大東島） 47945, 与那国島 47912, 石垣島 47918, 宮古島 47927\n",
    "\n",
    "参考：https://www.data.jma.go.jp/stats/etrn/index.php?prec_no=43&block_no=&year=&month=&day=&view="
   ]
  },
  {
   "cell_type": "code",
   "execution_count": 23,
   "id": "f5bb3e51",
   "metadata": {
    "tags": []
   },
   "outputs": [
    {
     "name": "stdout",
     "output_type": "stream",
     "text": [
      "AOI\\TEST.geojson\n"
     ]
    },
    {
     "name": "stderr",
     "output_type": "stream",
     "text": [
      "C:\\Users\\Shingo Yoshino\\AppData\\Local\\Temp\\ipykernel_2892\\2623366295.py:12: UserWarning: Geometry is in a geographic CRS. Results from 'centroid' are likely incorrect. Use 'GeoSeries.to_crs()' to re-project geometries to a projected CRS before this operation.\n",
      "\n",
      "  p = df_gjs.centroid #ポリゴンの重心取得\n"
     ]
    },
    {
     "data": {
      "text/html": [
       "<div style=\"width:100%;\"><div style=\"position:relative;width:100%;height:0;padding-bottom:60%;\"><span style=\"color:#565656\">Make this Notebook Trusted to load map: File -> Trust Notebook</span><iframe srcdoc=\"&lt;!DOCTYPE html&gt;\n",
       "&lt;html&gt;\n",
       "&lt;head&gt;\n",
       "    \n",
       "    &lt;meta http-equiv=&quot;content-type&quot; content=&quot;text/html; charset=UTF-8&quot; /&gt;\n",
       "    \n",
       "        &lt;script&gt;\n",
       "            L_NO_TOUCH = false;\n",
       "            L_DISABLE_3D = false;\n",
       "        &lt;/script&gt;\n",
       "    \n",
       "    &lt;style&gt;html, body {width: 100%;height: 100%;margin: 0;padding: 0;}&lt;/style&gt;\n",
       "    &lt;style&gt;#map {position:absolute;top:0;bottom:0;right:0;left:0;}&lt;/style&gt;\n",
       "    &lt;script src=&quot;https://cdn.jsdelivr.net/npm/leaflet@1.9.3/dist/leaflet.js&quot;&gt;&lt;/script&gt;\n",
       "    &lt;script src=&quot;https://code.jquery.com/jquery-1.12.4.min.js&quot;&gt;&lt;/script&gt;\n",
       "    &lt;script src=&quot;https://cdn.jsdelivr.net/npm/bootstrap@5.2.2/dist/js/bootstrap.bundle.min.js&quot;&gt;&lt;/script&gt;\n",
       "    &lt;script src=&quot;https://cdnjs.cloudflare.com/ajax/libs/Leaflet.awesome-markers/2.0.2/leaflet.awesome-markers.js&quot;&gt;&lt;/script&gt;\n",
       "    &lt;link rel=&quot;stylesheet&quot; href=&quot;https://cdn.jsdelivr.net/npm/leaflet@1.9.3/dist/leaflet.css&quot;/&gt;\n",
       "    &lt;link rel=&quot;stylesheet&quot; href=&quot;https://cdn.jsdelivr.net/npm/bootstrap@5.2.2/dist/css/bootstrap.min.css&quot;/&gt;\n",
       "    &lt;link rel=&quot;stylesheet&quot; href=&quot;https://netdna.bootstrapcdn.com/bootstrap/3.0.0/css/bootstrap.min.css&quot;/&gt;\n",
       "    &lt;link rel=&quot;stylesheet&quot; href=&quot;https://cdn.jsdelivr.net/npm/@fortawesome/fontawesome-free@6.2.0/css/all.min.css&quot;/&gt;\n",
       "    &lt;link rel=&quot;stylesheet&quot; href=&quot;https://cdnjs.cloudflare.com/ajax/libs/Leaflet.awesome-markers/2.0.2/leaflet.awesome-markers.css&quot;/&gt;\n",
       "    &lt;link rel=&quot;stylesheet&quot; href=&quot;https://cdn.jsdelivr.net/gh/python-visualization/folium/folium/templates/leaflet.awesome.rotate.min.css&quot;/&gt;\n",
       "    \n",
       "            &lt;meta name=&quot;viewport&quot; content=&quot;width=device-width,\n",
       "                initial-scale=1.0, maximum-scale=1.0, user-scalable=no&quot; /&gt;\n",
       "            &lt;style&gt;\n",
       "                #map_c4be66f4aa05f97091c85cf3e679d772 {\n",
       "                    position: relative;\n",
       "                    width: 100.0%;\n",
       "                    height: 100.0%;\n",
       "                    left: 0.0%;\n",
       "                    top: 0.0%;\n",
       "                }\n",
       "                .leaflet-container { font-size: 1rem; }\n",
       "            &lt;/style&gt;\n",
       "        \n",
       "&lt;/head&gt;\n",
       "&lt;body&gt;\n",
       "    \n",
       "    \n",
       "            &lt;div class=&quot;folium-map&quot; id=&quot;map_c4be66f4aa05f97091c85cf3e679d772&quot; &gt;&lt;/div&gt;\n",
       "        \n",
       "&lt;/body&gt;\n",
       "&lt;script&gt;\n",
       "    \n",
       "    \n",
       "            var map_c4be66f4aa05f97091c85cf3e679d772 = L.map(\n",
       "                &quot;map_c4be66f4aa05f97091c85cf3e679d772&quot;,\n",
       "                {\n",
       "                    center: [35.226244965660506, 138.72003930097026],\n",
       "                    crs: L.CRS.EPSG3857,\n",
       "                    zoom: 13,\n",
       "                    zoomControl: true,\n",
       "                    preferCanvas: false,\n",
       "                }\n",
       "            );\n",
       "\n",
       "            \n",
       "\n",
       "        \n",
       "    \n",
       "            var tile_layer_3ef88477e807f2324481213b9b3c6a21 = L.tileLayer(\n",
       "                &quot;https://{s}.tile.openstreetmap.org/{z}/{x}/{y}.png&quot;,\n",
       "                {&quot;attribution&quot;: &quot;Data by \\u0026copy; \\u003ca target=\\&quot;_blank\\&quot; href=\\&quot;http://openstreetmap.org\\&quot;\\u003eOpenStreetMap\\u003c/a\\u003e, under \\u003ca target=\\&quot;_blank\\&quot; href=\\&quot;http://www.openstreetmap.org/copyright\\&quot;\\u003eODbL\\u003c/a\\u003e.&quot;, &quot;detectRetina&quot;: false, &quot;maxNativeZoom&quot;: 18, &quot;maxZoom&quot;: 18, &quot;minZoom&quot;: 0, &quot;noWrap&quot;: false, &quot;opacity&quot;: 1, &quot;subdomains&quot;: &quot;abc&quot;, &quot;tms&quot;: false}\n",
       "            ).addTo(map_c4be66f4aa05f97091c85cf3e679d772);\n",
       "        \n",
       "    \n",
       "\n",
       "        function geo_json_3213d77ca9af8cfede2275b9eaedd642_onEachFeature(feature, layer) {\n",
       "            layer.on({\n",
       "            });\n",
       "        };\n",
       "        var geo_json_3213d77ca9af8cfede2275b9eaedd642 = L.geoJson(null, {\n",
       "                onEachFeature: geo_json_3213d77ca9af8cfede2275b9eaedd642_onEachFeature,\n",
       "            \n",
       "        });\n",
       "\n",
       "        function geo_json_3213d77ca9af8cfede2275b9eaedd642_add (data) {\n",
       "            geo_json_3213d77ca9af8cfede2275b9eaedd642\n",
       "                .addData(data)\n",
       "                .addTo(map_c4be66f4aa05f97091c85cf3e679d772);\n",
       "        }\n",
       "            geo_json_3213d77ca9af8cfede2275b9eaedd642_add({&quot;crs&quot;: {&quot;properties&quot;: {&quot;name&quot;: &quot;urn:ogc:def:crs:OGC:1.3:CRS84&quot;}, &quot;type&quot;: &quot;name&quot;}, &quot;features&quot;: [{&quot;geometry&quot;: {&quot;coordinates&quot;: [[[138.70230782190694, 35.25141378261389], [138.68356321610844, 35.21001293027832], [138.72536861983008, 35.19560330070337], [138.76273451165207, 35.24516975178431], [138.70230782190694, 35.25141378261389]]], &quot;type&quot;: &quot;Polygon&quot;}, &quot;properties&quot;: {}, &quot;type&quot;: &quot;Feature&quot;}], &quot;name&quot;: &quot;TEST&quot;, &quot;type&quot;: &quot;FeatureCollection&quot;});\n",
       "\n",
       "        \n",
       "&lt;/script&gt;\n",
       "&lt;/html&gt;\" style=\"position:absolute;width:100%;height:100%;left:0;top:0;border:none !important;\" allowfullscreen webkitallowfullscreen mozallowfullscreen></iframe></div></div>"
      ],
      "text/plain": [
       "<folium.folium.Map at 0x2cc356e44c0>"
      ]
     },
     "execution_count": 23,
     "metadata": {},
     "output_type": "execute_result"
    }
   ],
   "source": [
    "area = '47600' #気象データを参照するのに使用。スクリプト上部をみて地点番号を入力してください。\n",
    "\n",
    "folder_path = 'AOI'\n",
    "\n",
    "filename = get_any_geojson_file(folder_path)\n",
    "\n",
    "print(filename)\n",
    "\n",
    "df_gjs = gpd.read_file(filename,encoding='cp932') #geopandasを使用してgeojsonを開く\n",
    "ftr = df_gjs.iloc[0] #最初のフィーチャを選択\n",
    "geom = ftr.geometry #ジオメトリを取得、WKT形式で取得できる\n",
    "p = df_gjs.centroid #ポリゴンの重心取得\n",
    "    \n",
    "location = [p.y[0],p.x[0]] #重心座標のX,Yを抽出\n",
    "\n",
    "m = folium.Map(location, zoom_start=13) #地図で表示\n",
    "folium.GeoJson(str(filename)).add_to(m)\n",
    "m"
   ]
  },
  {
   "cell_type": "markdown",
   "id": "28e4499e-ca92-4caf-bc61-bdf8b40ee0b7",
   "metadata": {},
   "source": [
    "AOIの面積算出"
   ]
  },
  {
   "cell_type": "code",
   "execution_count": 24,
   "id": "1f8bc0a7",
   "metadata": {
    "scrolled": true
   },
   "outputs": [
    {
     "name": "stdout",
     "output_type": "stream",
     "text": [
      "0.0026146662570698505\n"
     ]
    }
   ],
   "source": [
    "#アップロードしたAOIのジオメトリ化と面積算出\n",
    "\n",
    "geom1 = str(geom)\n",
    "area_aoi = geom.area\n",
    "\n",
    "print(area_aoi)"
   ]
  },
  {
   "cell_type": "markdown",
   "id": "5c6f717a-125a-46df-abe5-0f3d955ffff4",
   "metadata": {
    "tags": []
   },
   "source": [
    "# 3.アーカイブの検索\n",
    "検索条件を設定してください。\n",
    "<br>参照：衛星画像検索「Sentinelsat」 https://sentinelsat.readthedocs.io/en/stable/"
   ]
  },
  {
   "cell_type": "code",
   "execution_count": 25,
   "id": "d074e502",
   "metadata": {},
   "outputs": [],
   "source": [
    "#検索条件\n",
    "results = asf.geo_search(\n",
    "    platform=[asf.PLATFORM.SENTINEL1],\n",
    "    intersectsWith=geom1,\n",
    "    #flightDirection=asf.FLIGHT_DIRECTION.ASCENDING,\n",
    "    processingLevel=asf.PRODUCT_TYPE.GRD_HD, #GRD_HD,SLC\n",
    "    start='2024-04-01T00:00:00Z',\n",
    "    end='2024-06-28T00:00:00Z'    \n",
    ")\n",
    "\n",
    "#ASFSearchResultsオブジェクトをgeojsonに変換\n",
    "data = results.geojson()\n",
    "\n",
    "#正規化表現\n",
    "team_df = pd.json_normalize(data, record_path='features')"
   ]
  },
  {
   "cell_type": "code",
   "execution_count": 19,
   "id": "f09bf351",
   "metadata": {},
   "outputs": [
    {
     "name": "stdout",
     "output_type": "stream",
     "text": [
      "  properties.beamModeType                                  properties.fileID  \\\n",
      "0                      IW  S1A_IW_GRDH_1SDV_20240617T204330_20240617T2043...   \n",
      "1                      IW  S1A_IW_GRDH_1SDV_20240605T204331_20240605T2043...   \n",
      "2                      IW  S1A_IW_GRDH_1SDV_20240524T204331_20240524T2043...   \n",
      "3                      IW  S1A_IW_GRDH_1SDV_20240512T204331_20240512T2043...   \n",
      "4                      IW  S1A_IW_GRDH_1SDV_20240430T204332_20240430T2043...   \n",
      "5                      IW  S1A_IW_GRDH_1SDV_20240418T204331_20240418T2043...   \n",
      "6                      IW  S1A_IW_GRDH_1SDV_20240406T204331_20240406T2043...   \n",
      "\n",
      "  properties.flightDirection  properties.pathNumber properties.platform  \\\n",
      "0                 DESCENDING                     46         Sentinel-1A   \n",
      "1                 DESCENDING                     46         Sentinel-1A   \n",
      "2                 DESCENDING                     46         Sentinel-1A   \n",
      "3                 DESCENDING                     46         Sentinel-1A   \n",
      "4                 DESCENDING                     46         Sentinel-1A   \n",
      "5                 DESCENDING                     46         Sentinel-1A   \n",
      "6                 DESCENDING                     46         Sentinel-1A   \n",
      "\n",
      "  properties.polarization properties.processingDate  \\\n",
      "0                   VV+VH  2024-06-17T20:43:30.215Z   \n",
      "1                   VV+VH  2024-06-05T20:43:31.349Z   \n",
      "2                   VV+VH  2024-05-24T20:43:31.952Z   \n",
      "3                   VV+VH  2024-05-12T20:43:31.928Z   \n",
      "4                   VV+VH  2024-04-30T20:43:32.028Z   \n",
      "5                   VV+VH  2024-04-18T20:43:31.799Z   \n",
      "6                   VV+VH  2024-04-06T20:43:31.437Z   \n",
      "\n",
      "  properties.processingLevel  \\\n",
      "0                     GRD_HD   \n",
      "1                     GRD_HD   \n",
      "2                     GRD_HD   \n",
      "3                     GRD_HD   \n",
      "4                     GRD_HD   \n",
      "5                     GRD_HD   \n",
      "6                     GRD_HD   \n",
      "\n",
      "                                      properties.url  properties.frameNumber  \\\n",
      "0  https://datapool.asf.alaska.edu/GRD_HD/SA/S1A_...                     470   \n",
      "1  https://datapool.asf.alaska.edu/GRD_HD/SA/S1A_...                     470   \n",
      "2  https://datapool.asf.alaska.edu/GRD_HD/SA/S1A_...                     470   \n",
      "3  https://datapool.asf.alaska.edu/GRD_HD/SA/S1A_...                     470   \n",
      "4  https://datapool.asf.alaska.edu/GRD_HD/SA/S1A_...                     470   \n",
      "5  https://datapool.asf.alaska.edu/GRD_HD/SA/S1A_...                     470   \n",
      "6  https://datapool.asf.alaska.edu/GRD_HD/SA/S1A_...                     470   \n",
      "\n",
      "                                                 WKT  Coverage  \n",
      "0  POLYGON((141.074112 35.382736, 141.496719 37.1...       1.0  \n",
      "1  POLYGON((141.134277 35.61837, 141.490692 37.12...       1.0  \n",
      "2  POLYGON((141.133865 35.618454, 141.490311 37.1...       1.0  \n",
      "3  POLYGON((141.136002 35.618347, 141.492569 37.1...       1.0  \n",
      "4  POLYGON((141.136246 35.618305, 141.492859 37.1...       1.0  \n",
      "5  POLYGON((141.136414 35.618355, 141.493042 37.1...       1.0  \n",
      "6  POLYGON((141.136307 35.618355, 141.492905 37.1...       1.0  \n"
     ]
    }
   ],
   "source": [
    "#WKTの属性枠を追加\n",
    "WKT_Ary = []\n",
    "CoverRate_Ary = []\n",
    "\n",
    "                  \n",
    "#WKTの属性を追加\n",
    "for i in range(len(team_df)):\n",
    "    \n",
    "    geometry2 = team_df.iloc[i]['geometry.coordinates'] #正規化表現内からジオメトリを抜き出し\n",
    "    \n",
    "    #ジオメトリを文字列のWKT方式に変換\n",
    "    wkt = 'POLYGON((' + str(geometry2[0][0][0]) + ' ' + str(geometry2[0][0][1]) + ', ' + \\\n",
    "        str(geometry2[0][1][0]) + ' ' + str(geometry2[0][1][1]) + ', ' + \\\n",
    "        str(geometry2[0][2][0]) + ' ' + str(geometry2[0][2][1]) + ', ' + \\\n",
    "        str(geometry2[0][3][0]) + ' ' + str(geometry2[0][3][1]) + ', ' + \\\n",
    "        str(geometry2[0][4][0]) + ' ' + str(geometry2[0][4][1]) + '))'\n",
    "    \n",
    "    geom2 = loads(wkt) #文字列WKTにジオメトリとしての情報を付加\n",
    "    \n",
    "    intersection_area =  geom2.intersection(geom).area #交差部の面積を演算\n",
    "    cover_rate = intersection_area / area_aoi #AOI面積と交差部面積の比率演算\n",
    "    \n",
    "    #配列に演算結果を追加\n",
    "    WKT_Ary.append(wkt)\n",
    "    CoverRate_Ary.append(cover_rate)\n",
    "\n",
    "#辞書の中に配列を追加    \n",
    "team_df['WKT'] = WKT_Ary\n",
    "team_df['Coverage'] = CoverRate_Ary\n",
    "\n",
    "#辞書から不要な要素を消去\n",
    "del team_df['type'],team_df['geometry.coordinates'],team_df['geometry.type'],\\\n",
    "    team_df['properties.browse'],team_df['properties.bytes'],team_df['properties.centerLat'],\\\n",
    "    team_df['properties.centerLon'],team_df['properties.faradayRotation'],team_df['properties.groupID'],\\\n",
    "    team_df['properties.granuleType'],team_df['properties.insarStackId'],team_df['properties.md5sum'],\\\n",
    "    team_df['properties.offNadirAngle'],team_df['properties.orbit'],team_df['properties.pointingAngle'],\\\n",
    "    team_df['properties.sceneName'],team_df['properties.sensor'],team_df['properties.startTime'],\\\n",
    "    team_df['properties.stopTime'],team_df['properties.pgeVersion'],team_df['properties.fileName']\n",
    "\n",
    "print(team_df)"
   ]
  },
  {
   "cell_type": "markdown",
   "id": "3fe9cce7-996a-4c5a-b4f3-3b9fe94119e7",
   "metadata": {},
   "source": [
    "# 4.CSVとして出力\n",
    "気象データ不要の場合はココまで"
   ]
  },
  {
   "cell_type": "code",
   "execution_count": 18,
   "id": "cd1b1a7d",
   "metadata": {},
   "outputs": [],
   "source": [
    "#カレントディレクトリへCSV出力\n",
    "\n",
    "team_df.to_csv('./Sentinel-1_List.csv')"
   ]
  },
  {
   "cell_type": "markdown",
   "id": "aaeb0a4e-0c15-4899-81e5-51f237259c71",
   "metadata": {},
   "source": [
    "# 5.気象データの検索\n",
    "上記で呼び出した撮像日と、「気象観測所・測候所」の地点番号に基づいて、過去の気象データを呼び出します。\n",
    "<br>参照：気象庁過去データ https://www.nakakamado.com/2022/09/weather-past-webapi.html"
   ]
  },
  {
   "cell_type": "markdown",
   "id": "b0c670b7-2958-4afa-b8e8-065b519d3206",
   "metadata": {},
   "source": [
    "使用する関数の読み込み"
   ]
  },
  {
   "cell_type": "code",
   "execution_count": 102,
   "id": "fd0cd6f2",
   "metadata": {},
   "outputs": [],
   "source": [
    "#気象データ呼び出し関数\n",
    "\n",
    "def api_call(area,dt):\n",
    "    url = 'https://api.cultivationdata.net/past?no=' + str(area) + '&year=' + str(dt.year) + '&month=' + str(dt.month)\n",
    "    r = requests.get(url, verify=False)\n",
    "    data = json.loads(r.text)\n",
    "    return data\n",
    "\n",
    "#気象データ検索関数\n",
    "\n",
    "def api_search(data,date,key):\n",
    "    for val in data.values():\n",
    "        result = str(val[date][key])\n",
    "    return result"
   ]
  },
  {
   "cell_type": "markdown",
   "id": "330c6335-c381-4f31-8cdc-2e6273568ac0",
   "metadata": {},
   "source": [
    "気象データの検索\n",
    "<br>*APIの呼び出しに少し時間がかかります。"
   ]
  },
  {
   "cell_type": "code",
   "execution_count": 103,
   "id": "f55450d9",
   "metadata": {},
   "outputs": [
    {
     "name": "stdout",
     "output_type": "stream",
     "text": [
      "2023-05-19 05:43:28+09:00\n",
      "2023-05-07 05:43:27+09:00\n",
      "2023-04-25 05:43:26+09:00\n",
      "2023-04-13 05:43:26+09:00\n",
      "2023-04-01 05:43:25+09:00\n",
      "2023-03-20 05:43:25+09:00\n",
      "2023-03-08 05:43:25+09:00\n"
     ]
    }
   ],
   "source": [
    "#WKTの属性枠を追加\n",
    "total_rainfall_Ary = []\n",
    "total_snowfall_Ary = []\n",
    "weather_overview_day_y_Ary = []\n",
    "weather_overview_night_y_Ary = []\n",
    "weather_overview_day_Ary = []\n",
    "weather_overview_night_Ary = []\n",
    "\n",
    "for i , row in team_df.iterrows():\n",
    "    \n",
    "    s = pd.to_datetime(row[6])\n",
    "    dt = s.tz_convert('Asia/Tokyo')\n",
    "    print(dt)\n",
    "    \n",
    "    day = datetime.timedelta(days = 1)\n",
    "    dt_y = dt - day\n",
    "        \n",
    "    data = api_call(area,dt)\n",
    "    data_y = api_call(area,dt_y)\n",
    "    \n",
    "    time.sleep(2)\n",
    "        \n",
    "    year = dt.year\n",
    "    month = dt.month\n",
    "    day = dt.day\n",
    "        \n",
    "    year_y = dt_y.year\n",
    "    month_y = dt_y.month\n",
    "    day_y = dt_y.day\n",
    "        \n",
    "    date = str(year) + '-' + str(month) + '-' + str(day)\n",
    "    date_y = str(year_y) + '-' + str(month_y) + '-' + str(day_y)\n",
    "    \n",
    "    total_rainfall_Ary.append(api_search(data,date,'合計降水量'))\n",
    "    total_snowfall_Ary.append(api_search(data,date,'合計降雪'))\n",
    "    weather_overview_day_y_Ary.append(api_search(data_y,date_y,'天気概況（昼）'))\n",
    "    weather_overview_night_y_Ary.append(api_search(data_y,date_y,'天気概況（夜）'))\n",
    "    weather_overview_day_Ary.append(api_search(data,date,'天気概況（昼）'))\n",
    "    weather_overview_night_Ary.append(api_search(data,date,'天気概況（夜）'))\n",
    "    \n",
    "team_df['合計降水量'] = total_rainfall_Ary\n",
    "team_df['合計降雪'] = total_snowfall_Ary\n",
    "team_df['前日の天気概況（昼）'] = weather_overview_day_y_Ary\n",
    "team_df['前日の天気概況（夜）'] = weather_overview_night_y_Ary\n",
    "team_df['当日の天気概況（昼）'] = weather_overview_day_Ary\n",
    "team_df['当日の天気概況（夜）'] = weather_overview_night_Ary"
   ]
  },
  {
   "cell_type": "markdown",
   "id": "cc088e17-cdbc-43e4-8700-0b1586c54c2f",
   "metadata": {},
   "source": [
    "# 6.CSVとして出力"
   ]
  },
  {
   "cell_type": "code",
   "execution_count": 104,
   "id": "26881430",
   "metadata": {},
   "outputs": [],
   "source": [
    "#カレントディレクトリへCSV出力\n",
    "\n",
    "team_df.to_csv('./Sentinel-1_List.csv', encoding=\"shift-jis\")"
   ]
  },
  {
   "cell_type": "markdown",
   "id": "c104a182-0873-4218-a0ab-67c4c19990b8",
   "metadata": {
    "tags": []
   },
   "source": [
    "# A.データフレームの確認"
   ]
  },
  {
   "cell_type": "code",
   "execution_count": 170,
   "id": "3ae1d515",
   "metadata": {},
   "outputs": [
    {
     "name": "stdout",
     "output_type": "stream",
     "text": [
      "  properties.beamModeType                                  properties.fileID  \\\n",
      "0                      IW  S1A_IW_GRDH_1SDV_20240430T204332_20240430T2043...   \n",
      "1                      IW  S1A_IW_GRDH_1SDV_20240418T204331_20240418T2043...   \n",
      "2                      IW  S1A_IW_GRDH_1SDV_20240406T204331_20240406T2043...   \n",
      "3                      IW  S1A_IW_GRDH_1SDV_20240325T204330_20240325T2043...   \n",
      "4                      IW  S1A_IW_GRDH_1SDV_20240313T204330_20240313T2043...   \n",
      "5                      IW  S1A_IW_GRDH_1SDV_20240301T204330_20240301T2043...   \n",
      "\n",
      "  properties.flightDirection  properties.pathNumber properties.platform  \\\n",
      "0                 DESCENDING                     46         Sentinel-1A   \n",
      "1                 DESCENDING                     46         Sentinel-1A   \n",
      "2                 DESCENDING                     46         Sentinel-1A   \n",
      "3                 DESCENDING                     46         Sentinel-1A   \n",
      "4                 DESCENDING                     46         Sentinel-1A   \n",
      "5                 DESCENDING                     46         Sentinel-1A   \n",
      "\n",
      "  properties.polarization properties.processingDate  \\\n",
      "0                   VV+VH  2024-04-30T20:43:32.028Z   \n",
      "1                   VV+VH  2024-04-18T20:43:31.799Z   \n",
      "2                   VV+VH  2024-04-06T20:43:31.437Z   \n",
      "3                   VV+VH  2024-03-25T20:43:30.701Z   \n",
      "4                   VV+VH  2024-03-13T20:43:30.661Z   \n",
      "5                   VV+VH  2024-03-01T20:43:30.621Z   \n",
      "\n",
      "  properties.processingLevel  \\\n",
      "0                     GRD_HD   \n",
      "1                     GRD_HD   \n",
      "2                     GRD_HD   \n",
      "3                     GRD_HD   \n",
      "4                     GRD_HD   \n",
      "5                     GRD_HD   \n",
      "\n",
      "                                      properties.url  properties.frameNumber  \\\n",
      "0  https://datapool.asf.alaska.edu/GRD_HD/SA/S1A_...                     470   \n",
      "1  https://datapool.asf.alaska.edu/GRD_HD/SA/S1A_...                     470   \n",
      "2  https://datapool.asf.alaska.edu/GRD_HD/SA/S1A_...                     470   \n",
      "3  https://datapool.asf.alaska.edu/GRD_HD/SA/S1A_...                     470   \n",
      "4  https://datapool.asf.alaska.edu/GRD_HD/SA/S1A_...                     470   \n",
      "5  https://datapool.asf.alaska.edu/GRD_HD/SA/S1A_...                     470   \n",
      "\n",
      "                                                 WKT  Coverage 合計降水量  合計降雪  \\\n",
      "0  POLYGON((141.136246 35.618305, 141.492859 37.1...       1.0  None  None   \n",
      "1  POLYGON((141.136414 35.618355, 141.493042 37.1...       1.0    --    --   \n",
      "2  POLYGON((141.136307 35.618355, 141.492905 37.1...       1.0   0.0    --   \n",
      "3  POLYGON((141.136871 35.61829, 141.493484 37.12...       1.0  24.5    --   \n",
      "4  POLYGON((141.137039 35.61829, 141.493698 37.12...       1.0    --    --   \n",
      "5  POLYGON((141.136978 35.618324, 141.493668 37.1...       1.0   0.0    --   \n",
      "\n",
      "  前日の天気概況（昼）       前日の天気概況（夜） 当日の天気概況（昼） 当日の天気概況（夜）  \n",
      "0       曇一時雨             雨時々曇       None       None  \n",
      "1       晴時々曇                晴      晴後一時曇       曇時々晴  \n",
      "2       曇一時晴             雨時々曇       曇時々晴          曇  \n",
      "3  雨時々曇、雷を伴う        雨時々曇、雷を伴う       雨時々曇       曇一時雨  \n",
      "4       晴一時曇             曇時々晴       晴一時曇          晴  \n",
      "5     曇一時雨後晴  曇一時晴後一時雪、みぞれを伴う   曇一時雪後時々晴   晴後一時雪一時曇  \n"
     ]
    }
   ],
   "source": [
    "#確認用\n",
    "print(team_df)"
   ]
  }
 ],
 "metadata": {
  "kernelspec": {
   "display_name": "Python 3 (ipykernel)",
   "language": "python",
   "name": "python3"
  },
  "language_info": {
   "codemirror_mode": {
    "name": "ipython",
    "version": 3
   },
   "file_extension": ".py",
   "mimetype": "text/x-python",
   "name": "python",
   "nbconvert_exporter": "python",
   "pygments_lexer": "ipython3",
   "version": "3.9.12"
  }
 },
 "nbformat": 4,
 "nbformat_minor": 5
}
